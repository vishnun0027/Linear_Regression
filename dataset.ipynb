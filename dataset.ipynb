{
 "cells": [
  {
   "cell_type": "markdown",
   "metadata": {},
   "source": [
    "### Employee Dataset\n",
    "\n",
    "Generates a synthetic dataset of employee information, including years of experience, education, age, and salary. \\\n",
    "The dataset is then saved as a CSV file for later use."
   ]
  },
  {
   "cell_type": "code",
   "execution_count": 11,
   "metadata": {},
   "outputs": [],
   "source": [
    "import pandas as pd\n",
    "import numpy as np\n",
    "\n",
    "# generate synthatic dataset\n",
    "import pandas as pd\n",
    "np.random.seed(42)\n",
    "n_samples = 100\n",
    "\n",
    "Experience = np.random.randint(1, 20, size=n_samples)\n",
    "Education = np.random.randint(10, 18, size=n_samples)\n",
    "Age = np.random.randint(18, 65, size=n_samples)\n",
    "salary = 9000 * Experience + 1000 * Education + 500 * Age + np.random.normal(0, 1, size=n_samples)\n",
    "salary = np.round(salary)\n",
    "\n",
    "\n",
    "# create dataframe\n",
    "data = {\n",
    "        'Experience': Experience,\n",
    "        'Education': Education, \n",
    "        'Age': Age, \n",
    "        'Salary': salary}\n",
    "df = pd.DataFrame(data)\n",
    "df.to_csv('employee_salary.csv', index=False)"
   ]
  }
 ],
 "metadata": {
  "kernelspec": {
   "display_name": "base",
   "language": "python",
   "name": "python3"
  },
  "language_info": {
   "codemirror_mode": {
    "name": "ipython",
    "version": 3
   },
   "file_extension": ".py",
   "mimetype": "text/x-python",
   "name": "python",
   "nbconvert_exporter": "python",
   "pygments_lexer": "ipython3",
   "version": "3.11.7"
  }
 },
 "nbformat": 4,
 "nbformat_minor": 2
}
